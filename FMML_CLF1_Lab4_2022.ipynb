{
  "nbformat": 4,
  "nbformat_minor": 0,
  "metadata": {
    "colab": {
      "provenance": [],
      "toc_visible": true,
      "include_colab_link": true
    },
    "kernelspec": {
      "name": "python3",
      "display_name": "Python 3"
    },
    "language_info": {
      "name": "python"
    }
  },
  "cells": [
    {
      "cell_type": "markdown",
      "metadata": {
        "id": "view-in-github",
        "colab_type": "text"
      },
      "source": [
        "<a href=\"https://colab.research.google.com/github/satyasaidommeti/fmml-lab-session/blob/main/FMML_CLF1_Lab4_2022.ipynb\" target=\"_parent\"><img src=\"https://colab.research.google.com/assets/colab-badge.svg\" alt=\"Open In Colab\"/></a>"
      ]
    },
    {
      "cell_type": "markdown",
      "metadata": {
        "id": "7zx0DuwfhUoO"
      },
      "source": [
        "# **FOUNDATIONS OF MODERN MACHINE LEARNING, IIIT Hyderabad**\n",
        "### MODULE: CLASSIFICATION-1\n",
        "### LAB-4 : Understanding Cross-Validation and Standardization\n",
        "#### Module Coordinator: Tanvi Kamble\n",
        "\n",
        "---"
      ]
    },
    {
      "cell_type": "markdown",
      "source": [
        "# **Section 1: Tweaking the parameters**"
      ],
      "metadata": {
        "id": "qH_EEbUzvRBM"
      }
    },
    {
      "cell_type": "markdown",
      "source": [
        "Let's stat the lab by writing knn code on a cancer detection dataset\n"
      ],
      "metadata": {
        "id": "ZPj-s_67uscz"
      }
    },
    {
      "cell_type": "code",
      "metadata": {
        "id": "ITvv8HAmjquR"
      },
      "source": [
        "import pandas as pd\n",
        "import numpy as np\n",
        "import matplotlib.pyplot as plt\n",
        "import seaborn as sns\n",
        "import sklearn\n",
        "from sklearn.neighbors import KNeighborsClassifier\n",
        "from sklearn import datasets"
      ],
      "execution_count": 1,
      "outputs": []
    },
    {
      "cell_type": "code",
      "source": [
        "cancer = datasets.load_breast_cancer(as_frame=True)"
      ],
      "metadata": {
        "id": "167jISBahmSu"
      },
      "execution_count": 2,
      "outputs": []
    },
    {
      "cell_type": "code",
      "source": [
        "cancer.target_names"
      ],
      "metadata": {
        "colab": {
          "base_uri": "https://localhost:8080/"
        },
        "id": "IoKfdTQrKGnM",
        "outputId": "1f630fa0-2b5e-4138-d1e9-69f6c133078f"
      },
      "execution_count": 3,
      "outputs": [
        {
          "output_type": "execute_result",
          "data": {
            "text/plain": [
              "array(['malignant', 'benign'], dtype='<U9')"
            ]
          },
          "metadata": {},
          "execution_count": 3
        }
      ]
    },
    {
      "cell_type": "code",
      "source": [
        "cancer.frame"
      ],
      "metadata": {
        "colab": {
          "base_uri": "https://localhost:8080/",
          "height": 522
        },
        "id": "l1Fp6m9jhrpP",
        "outputId": "20ad4792-d1cf-4221-804d-a03fbec7608a"
      },
      "execution_count": 4,
      "outputs": [
        {
          "output_type": "execute_result",
          "data": {
            "text/plain": [
              "     mean radius  mean texture  mean perimeter  mean area  mean smoothness  \\\n",
              "0          17.99         10.38          122.80     1001.0          0.11840   \n",
              "1          20.57         17.77          132.90     1326.0          0.08474   \n",
              "2          19.69         21.25          130.00     1203.0          0.10960   \n",
              "3          11.42         20.38           77.58      386.1          0.14250   \n",
              "4          20.29         14.34          135.10     1297.0          0.10030   \n",
              "..           ...           ...             ...        ...              ...   \n",
              "564        21.56         22.39          142.00     1479.0          0.11100   \n",
              "565        20.13         28.25          131.20     1261.0          0.09780   \n",
              "566        16.60         28.08          108.30      858.1          0.08455   \n",
              "567        20.60         29.33          140.10     1265.0          0.11780   \n",
              "568         7.76         24.54           47.92      181.0          0.05263   \n",
              "\n",
              "     mean compactness  mean concavity  mean concave points  mean symmetry  \\\n",
              "0             0.27760         0.30010              0.14710         0.2419   \n",
              "1             0.07864         0.08690              0.07017         0.1812   \n",
              "2             0.15990         0.19740              0.12790         0.2069   \n",
              "3             0.28390         0.24140              0.10520         0.2597   \n",
              "4             0.13280         0.19800              0.10430         0.1809   \n",
              "..                ...             ...                  ...            ...   \n",
              "564           0.11590         0.24390              0.13890         0.1726   \n",
              "565           0.10340         0.14400              0.09791         0.1752   \n",
              "566           0.10230         0.09251              0.05302         0.1590   \n",
              "567           0.27700         0.35140              0.15200         0.2397   \n",
              "568           0.04362         0.00000              0.00000         0.1587   \n",
              "\n",
              "     mean fractal dimension  ...  worst texture  worst perimeter  worst area  \\\n",
              "0                   0.07871  ...          17.33           184.60      2019.0   \n",
              "1                   0.05667  ...          23.41           158.80      1956.0   \n",
              "2                   0.05999  ...          25.53           152.50      1709.0   \n",
              "3                   0.09744  ...          26.50            98.87       567.7   \n",
              "4                   0.05883  ...          16.67           152.20      1575.0   \n",
              "..                      ...  ...            ...              ...         ...   \n",
              "564                 0.05623  ...          26.40           166.10      2027.0   \n",
              "565                 0.05533  ...          38.25           155.00      1731.0   \n",
              "566                 0.05648  ...          34.12           126.70      1124.0   \n",
              "567                 0.07016  ...          39.42           184.60      1821.0   \n",
              "568                 0.05884  ...          30.37            59.16       268.6   \n",
              "\n",
              "     worst smoothness  worst compactness  worst concavity  \\\n",
              "0             0.16220            0.66560           0.7119   \n",
              "1             0.12380            0.18660           0.2416   \n",
              "2             0.14440            0.42450           0.4504   \n",
              "3             0.20980            0.86630           0.6869   \n",
              "4             0.13740            0.20500           0.4000   \n",
              "..                ...                ...              ...   \n",
              "564           0.14100            0.21130           0.4107   \n",
              "565           0.11660            0.19220           0.3215   \n",
              "566           0.11390            0.30940           0.3403   \n",
              "567           0.16500            0.86810           0.9387   \n",
              "568           0.08996            0.06444           0.0000   \n",
              "\n",
              "     worst concave points  worst symmetry  worst fractal dimension  target  \n",
              "0                  0.2654          0.4601                  0.11890       0  \n",
              "1                  0.1860          0.2750                  0.08902       0  \n",
              "2                  0.2430          0.3613                  0.08758       0  \n",
              "3                  0.2575          0.6638                  0.17300       0  \n",
              "4                  0.1625          0.2364                  0.07678       0  \n",
              "..                    ...             ...                      ...     ...  \n",
              "564                0.2216          0.2060                  0.07115       0  \n",
              "565                0.1628          0.2572                  0.06637       0  \n",
              "566                0.1418          0.2218                  0.07820       0  \n",
              "567                0.2650          0.4087                  0.12400       0  \n",
              "568                0.0000          0.2871                  0.07039       1  \n",
              "\n",
              "[569 rows x 31 columns]"
            ],
            "text/html": [
              "\n",
              "  <div id=\"df-f44e2478-b49c-4588-88fe-339ef3c39586\">\n",
              "    <div class=\"colab-df-container\">\n",
              "      <div>\n",
              "<style scoped>\n",
              "    .dataframe tbody tr th:only-of-type {\n",
              "        vertical-align: middle;\n",
              "    }\n",
              "\n",
              "    .dataframe tbody tr th {\n",
              "        vertical-align: top;\n",
              "    }\n",
              "\n",
              "    .dataframe thead th {\n",
              "        text-align: right;\n",
              "    }\n",
              "</style>\n",
              "<table border=\"1\" class=\"dataframe\">\n",
              "  <thead>\n",
              "    <tr style=\"text-align: right;\">\n",
              "      <th></th>\n",
              "      <th>mean radius</th>\n",
              "      <th>mean texture</th>\n",
              "      <th>mean perimeter</th>\n",
              "      <th>mean area</th>\n",
              "      <th>mean smoothness</th>\n",
              "      <th>mean compactness</th>\n",
              "      <th>mean concavity</th>\n",
              "      <th>mean concave points</th>\n",
              "      <th>mean symmetry</th>\n",
              "      <th>mean fractal dimension</th>\n",
              "      <th>...</th>\n",
              "      <th>worst texture</th>\n",
              "      <th>worst perimeter</th>\n",
              "      <th>worst area</th>\n",
              "      <th>worst smoothness</th>\n",
              "      <th>worst compactness</th>\n",
              "      <th>worst concavity</th>\n",
              "      <th>worst concave points</th>\n",
              "      <th>worst symmetry</th>\n",
              "      <th>worst fractal dimension</th>\n",
              "      <th>target</th>\n",
              "    </tr>\n",
              "  </thead>\n",
              "  <tbody>\n",
              "    <tr>\n",
              "      <th>0</th>\n",
              "      <td>17.99</td>\n",
              "      <td>10.38</td>\n",
              "      <td>122.80</td>\n",
              "      <td>1001.0</td>\n",
              "      <td>0.11840</td>\n",
              "      <td>0.27760</td>\n",
              "      <td>0.30010</td>\n",
              "      <td>0.14710</td>\n",
              "      <td>0.2419</td>\n",
              "      <td>0.07871</td>\n",
              "      <td>...</td>\n",
              "      <td>17.33</td>\n",
              "      <td>184.60</td>\n",
              "      <td>2019.0</td>\n",
              "      <td>0.16220</td>\n",
              "      <td>0.66560</td>\n",
              "      <td>0.7119</td>\n",
              "      <td>0.2654</td>\n",
              "      <td>0.4601</td>\n",
              "      <td>0.11890</td>\n",
              "      <td>0</td>\n",
              "    </tr>\n",
              "    <tr>\n",
              "      <th>1</th>\n",
              "      <td>20.57</td>\n",
              "      <td>17.77</td>\n",
              "      <td>132.90</td>\n",
              "      <td>1326.0</td>\n",
              "      <td>0.08474</td>\n",
              "      <td>0.07864</td>\n",
              "      <td>0.08690</td>\n",
              "      <td>0.07017</td>\n",
              "      <td>0.1812</td>\n",
              "      <td>0.05667</td>\n",
              "      <td>...</td>\n",
              "      <td>23.41</td>\n",
              "      <td>158.80</td>\n",
              "      <td>1956.0</td>\n",
              "      <td>0.12380</td>\n",
              "      <td>0.18660</td>\n",
              "      <td>0.2416</td>\n",
              "      <td>0.1860</td>\n",
              "      <td>0.2750</td>\n",
              "      <td>0.08902</td>\n",
              "      <td>0</td>\n",
              "    </tr>\n",
              "    <tr>\n",
              "      <th>2</th>\n",
              "      <td>19.69</td>\n",
              "      <td>21.25</td>\n",
              "      <td>130.00</td>\n",
              "      <td>1203.0</td>\n",
              "      <td>0.10960</td>\n",
              "      <td>0.15990</td>\n",
              "      <td>0.19740</td>\n",
              "      <td>0.12790</td>\n",
              "      <td>0.2069</td>\n",
              "      <td>0.05999</td>\n",
              "      <td>...</td>\n",
              "      <td>25.53</td>\n",
              "      <td>152.50</td>\n",
              "      <td>1709.0</td>\n",
              "      <td>0.14440</td>\n",
              "      <td>0.42450</td>\n",
              "      <td>0.4504</td>\n",
              "      <td>0.2430</td>\n",
              "      <td>0.3613</td>\n",
              "      <td>0.08758</td>\n",
              "      <td>0</td>\n",
              "    </tr>\n",
              "    <tr>\n",
              "      <th>3</th>\n",
              "      <td>11.42</td>\n",
              "      <td>20.38</td>\n",
              "      <td>77.58</td>\n",
              "      <td>386.1</td>\n",
              "      <td>0.14250</td>\n",
              "      <td>0.28390</td>\n",
              "      <td>0.24140</td>\n",
              "      <td>0.10520</td>\n",
              "      <td>0.2597</td>\n",
              "      <td>0.09744</td>\n",
              "      <td>...</td>\n",
              "      <td>26.50</td>\n",
              "      <td>98.87</td>\n",
              "      <td>567.7</td>\n",
              "      <td>0.20980</td>\n",
              "      <td>0.86630</td>\n",
              "      <td>0.6869</td>\n",
              "      <td>0.2575</td>\n",
              "      <td>0.6638</td>\n",
              "      <td>0.17300</td>\n",
              "      <td>0</td>\n",
              "    </tr>\n",
              "    <tr>\n",
              "      <th>4</th>\n",
              "      <td>20.29</td>\n",
              "      <td>14.34</td>\n",
              "      <td>135.10</td>\n",
              "      <td>1297.0</td>\n",
              "      <td>0.10030</td>\n",
              "      <td>0.13280</td>\n",
              "      <td>0.19800</td>\n",
              "      <td>0.10430</td>\n",
              "      <td>0.1809</td>\n",
              "      <td>0.05883</td>\n",
              "      <td>...</td>\n",
              "      <td>16.67</td>\n",
              "      <td>152.20</td>\n",
              "      <td>1575.0</td>\n",
              "      <td>0.13740</td>\n",
              "      <td>0.20500</td>\n",
              "      <td>0.4000</td>\n",
              "      <td>0.1625</td>\n",
              "      <td>0.2364</td>\n",
              "      <td>0.07678</td>\n",
              "      <td>0</td>\n",
              "    </tr>\n",
              "    <tr>\n",
              "      <th>...</th>\n",
              "      <td>...</td>\n",
              "      <td>...</td>\n",
              "      <td>...</td>\n",
              "      <td>...</td>\n",
              "      <td>...</td>\n",
              "      <td>...</td>\n",
              "      <td>...</td>\n",
              "      <td>...</td>\n",
              "      <td>...</td>\n",
              "      <td>...</td>\n",
              "      <td>...</td>\n",
              "      <td>...</td>\n",
              "      <td>...</td>\n",
              "      <td>...</td>\n",
              "      <td>...</td>\n",
              "      <td>...</td>\n",
              "      <td>...</td>\n",
              "      <td>...</td>\n",
              "      <td>...</td>\n",
              "      <td>...</td>\n",
              "      <td>...</td>\n",
              "    </tr>\n",
              "    <tr>\n",
              "      <th>564</th>\n",
              "      <td>21.56</td>\n",
              "      <td>22.39</td>\n",
              "      <td>142.00</td>\n",
              "      <td>1479.0</td>\n",
              "      <td>0.11100</td>\n",
              "      <td>0.11590</td>\n",
              "      <td>0.24390</td>\n",
              "      <td>0.13890</td>\n",
              "      <td>0.1726</td>\n",
              "      <td>0.05623</td>\n",
              "      <td>...</td>\n",
              "      <td>26.40</td>\n",
              "      <td>166.10</td>\n",
              "      <td>2027.0</td>\n",
              "      <td>0.14100</td>\n",
              "      <td>0.21130</td>\n",
              "      <td>0.4107</td>\n",
              "      <td>0.2216</td>\n",
              "      <td>0.2060</td>\n",
              "      <td>0.07115</td>\n",
              "      <td>0</td>\n",
              "    </tr>\n",
              "    <tr>\n",
              "      <th>565</th>\n",
              "      <td>20.13</td>\n",
              "      <td>28.25</td>\n",
              "      <td>131.20</td>\n",
              "      <td>1261.0</td>\n",
              "      <td>0.09780</td>\n",
              "      <td>0.10340</td>\n",
              "      <td>0.14400</td>\n",
              "      <td>0.09791</td>\n",
              "      <td>0.1752</td>\n",
              "      <td>0.05533</td>\n",
              "      <td>...</td>\n",
              "      <td>38.25</td>\n",
              "      <td>155.00</td>\n",
              "      <td>1731.0</td>\n",
              "      <td>0.11660</td>\n",
              "      <td>0.19220</td>\n",
              "      <td>0.3215</td>\n",
              "      <td>0.1628</td>\n",
              "      <td>0.2572</td>\n",
              "      <td>0.06637</td>\n",
              "      <td>0</td>\n",
              "    </tr>\n",
              "    <tr>\n",
              "      <th>566</th>\n",
              "      <td>16.60</td>\n",
              "      <td>28.08</td>\n",
              "      <td>108.30</td>\n",
              "      <td>858.1</td>\n",
              "      <td>0.08455</td>\n",
              "      <td>0.10230</td>\n",
              "      <td>0.09251</td>\n",
              "      <td>0.05302</td>\n",
              "      <td>0.1590</td>\n",
              "      <td>0.05648</td>\n",
              "      <td>...</td>\n",
              "      <td>34.12</td>\n",
              "      <td>126.70</td>\n",
              "      <td>1124.0</td>\n",
              "      <td>0.11390</td>\n",
              "      <td>0.30940</td>\n",
              "      <td>0.3403</td>\n",
              "      <td>0.1418</td>\n",
              "      <td>0.2218</td>\n",
              "      <td>0.07820</td>\n",
              "      <td>0</td>\n",
              "    </tr>\n",
              "    <tr>\n",
              "      <th>567</th>\n",
              "      <td>20.60</td>\n",
              "      <td>29.33</td>\n",
              "      <td>140.10</td>\n",
              "      <td>1265.0</td>\n",
              "      <td>0.11780</td>\n",
              "      <td>0.27700</td>\n",
              "      <td>0.35140</td>\n",
              "      <td>0.15200</td>\n",
              "      <td>0.2397</td>\n",
              "      <td>0.07016</td>\n",
              "      <td>...</td>\n",
              "      <td>39.42</td>\n",
              "      <td>184.60</td>\n",
              "      <td>1821.0</td>\n",
              "      <td>0.16500</td>\n",
              "      <td>0.86810</td>\n",
              "      <td>0.9387</td>\n",
              "      <td>0.2650</td>\n",
              "      <td>0.4087</td>\n",
              "      <td>0.12400</td>\n",
              "      <td>0</td>\n",
              "    </tr>\n",
              "    <tr>\n",
              "      <th>568</th>\n",
              "      <td>7.76</td>\n",
              "      <td>24.54</td>\n",
              "      <td>47.92</td>\n",
              "      <td>181.0</td>\n",
              "      <td>0.05263</td>\n",
              "      <td>0.04362</td>\n",
              "      <td>0.00000</td>\n",
              "      <td>0.00000</td>\n",
              "      <td>0.1587</td>\n",
              "      <td>0.05884</td>\n",
              "      <td>...</td>\n",
              "      <td>30.37</td>\n",
              "      <td>59.16</td>\n",
              "      <td>268.6</td>\n",
              "      <td>0.08996</td>\n",
              "      <td>0.06444</td>\n",
              "      <td>0.0000</td>\n",
              "      <td>0.0000</td>\n",
              "      <td>0.2871</td>\n",
              "      <td>0.07039</td>\n",
              "      <td>1</td>\n",
              "    </tr>\n",
              "  </tbody>\n",
              "</table>\n",
              "<p>569 rows × 31 columns</p>\n",
              "</div>\n",
              "      <button class=\"colab-df-convert\" onclick=\"convertToInteractive('df-f44e2478-b49c-4588-88fe-339ef3c39586')\"\n",
              "              title=\"Convert this dataframe to an interactive table.\"\n",
              "              style=\"display:none;\">\n",
              "        \n",
              "  <svg xmlns=\"http://www.w3.org/2000/svg\" height=\"24px\"viewBox=\"0 0 24 24\"\n",
              "       width=\"24px\">\n",
              "    <path d=\"M0 0h24v24H0V0z\" fill=\"none\"/>\n",
              "    <path d=\"M18.56 5.44l.94 2.06.94-2.06 2.06-.94-2.06-.94-.94-2.06-.94 2.06-2.06.94zm-11 1L8.5 8.5l.94-2.06 2.06-.94-2.06-.94L8.5 2.5l-.94 2.06-2.06.94zm10 10l.94 2.06.94-2.06 2.06-.94-2.06-.94-.94-2.06-.94 2.06-2.06.94z\"/><path d=\"M17.41 7.96l-1.37-1.37c-.4-.4-.92-.59-1.43-.59-.52 0-1.04.2-1.43.59L10.3 9.45l-7.72 7.72c-.78.78-.78 2.05 0 2.83L4 21.41c.39.39.9.59 1.41.59.51 0 1.02-.2 1.41-.59l7.78-7.78 2.81-2.81c.8-.78.8-2.07 0-2.86zM5.41 20L4 18.59l7.72-7.72 1.47 1.35L5.41 20z\"/>\n",
              "  </svg>\n",
              "      </button>\n",
              "      \n",
              "  <style>\n",
              "    .colab-df-container {\n",
              "      display:flex;\n",
              "      flex-wrap:wrap;\n",
              "      gap: 12px;\n",
              "    }\n",
              "\n",
              "    .colab-df-convert {\n",
              "      background-color: #E8F0FE;\n",
              "      border: none;\n",
              "      border-radius: 50%;\n",
              "      cursor: pointer;\n",
              "      display: none;\n",
              "      fill: #1967D2;\n",
              "      height: 32px;\n",
              "      padding: 0 0 0 0;\n",
              "      width: 32px;\n",
              "    }\n",
              "\n",
              "    .colab-df-convert:hover {\n",
              "      background-color: #E2EBFA;\n",
              "      box-shadow: 0px 1px 2px rgba(60, 64, 67, 0.3), 0px 1px 3px 1px rgba(60, 64, 67, 0.15);\n",
              "      fill: #174EA6;\n",
              "    }\n",
              "\n",
              "    [theme=dark] .colab-df-convert {\n",
              "      background-color: #3B4455;\n",
              "      fill: #D2E3FC;\n",
              "    }\n",
              "\n",
              "    [theme=dark] .colab-df-convert:hover {\n",
              "      background-color: #434B5C;\n",
              "      box-shadow: 0px 1px 3px 1px rgba(0, 0, 0, 0.15);\n",
              "      filter: drop-shadow(0px 1px 2px rgba(0, 0, 0, 0.3));\n",
              "      fill: #FFFFFF;\n",
              "    }\n",
              "  </style>\n",
              "\n",
              "      <script>\n",
              "        const buttonEl =\n",
              "          document.querySelector('#df-f44e2478-b49c-4588-88fe-339ef3c39586 button.colab-df-convert');\n",
              "        buttonEl.style.display =\n",
              "          google.colab.kernel.accessAllowed ? 'block' : 'none';\n",
              "\n",
              "        async function convertToInteractive(key) {\n",
              "          const element = document.querySelector('#df-f44e2478-b49c-4588-88fe-339ef3c39586');\n",
              "          const dataTable =\n",
              "            await google.colab.kernel.invokeFunction('convertToInteractive',\n",
              "                                                     [key], {});\n",
              "          if (!dataTable) return;\n",
              "\n",
              "          const docLinkHtml = 'Like what you see? Visit the ' +\n",
              "            '<a target=\"_blank\" href=https://colab.research.google.com/notebooks/data_table.ipynb>data table notebook</a>'\n",
              "            + ' to learn more about interactive tables.';\n",
              "          element.innerHTML = '';\n",
              "          dataTable['output_type'] = 'display_data';\n",
              "          await google.colab.output.renderOutput(dataTable, element);\n",
              "          const docLink = document.createElement('div');\n",
              "          docLink.innerHTML = docLinkHtml;\n",
              "          element.appendChild(docLink);\n",
              "        }\n",
              "      </script>\n",
              "    </div>\n",
              "  </div>\n",
              "  "
            ]
          },
          "metadata": {},
          "execution_count": 4
        }
      ]
    },
    {
      "cell_type": "code",
      "metadata": {
        "id": "6P69_W-cnTF4"
      },
      "source": [
        "X = cancer.data\n",
        "y = cancer.target"
      ],
      "execution_count": 5,
      "outputs": []
    },
    {
      "cell_type": "code",
      "metadata": {
        "id": "v4SlDqmync4p"
      },
      "source": [
        "from sklearn.model_selection import train_test_split\n",
        "X_train, X_test, y_train, y_test = train_test_split(X, y, test_size = 0.33, random_state = 17)"
      ],
      "execution_count": 6,
      "outputs": []
    },
    {
      "cell_type": "markdown",
      "source": [
        "## Section 1.1: Changing Value of K\n",
        "Let's try to run the knn with different values of knn and compare the results"
      ],
      "metadata": {
        "id": "A987m6FMvaLm"
      }
    },
    {
      "cell_type": "code",
      "metadata": {
        "id": "owajk896p9yc"
      },
      "source": [
        "neighbors = []\n",
        "scores_list = []\n",
        "  \n",
        "for k in range(1, 25):\n",
        "    neighbors.append(k)\n",
        "    knn = KNeighborsClassifier(n_neighbors = k)\n",
        "    knn.fit(X_train,y_train)\n",
        "    scores = knn.score(X_test,y_test)\n",
        "    scores_list.append(scores)"
      ],
      "execution_count": 7,
      "outputs": []
    },
    {
      "cell_type": "code",
      "source": [
        "scores_list"
      ],
      "metadata": {
        "colab": {
          "base_uri": "https://localhost:8080/"
        },
        "id": "GIIn9EEUG5GA",
        "outputId": "a36a5522-741c-4de3-d7a2-e3d144a9dbb7"
      },
      "execution_count": 8,
      "outputs": [
        {
          "output_type": "execute_result",
          "data": {
            "text/plain": [
              "[0.898936170212766,\n",
              " 0.8936170212765957,\n",
              " 0.9148936170212766,\n",
              " 0.9202127659574468,\n",
              " 0.925531914893617,\n",
              " 0.925531914893617,\n",
              " 0.925531914893617,\n",
              " 0.925531914893617,\n",
              " 0.925531914893617,\n",
              " 0.9361702127659575,\n",
              " 0.925531914893617,\n",
              " 0.9361702127659575,\n",
              " 0.9361702127659575,\n",
              " 0.9361702127659575,\n",
              " 0.9308510638297872,\n",
              " 0.9308510638297872,\n",
              " 0.9308510638297872,\n",
              " 0.9308510638297872,\n",
              " 0.9308510638297872,\n",
              " 0.9308510638297872,\n",
              " 0.9308510638297872,\n",
              " 0.9361702127659575,\n",
              " 0.9308510638297872,\n",
              " 0.9361702127659575]"
            ]
          },
          "metadata": {},
          "execution_count": 8
        }
      ]
    },
    {
      "cell_type": "code",
      "metadata": {
        "colab": {
          "base_uri": "https://localhost:8080/",
          "height": 388
        },
        "id": "UvD57XSyqSVT",
        "outputId": "dea4f023-7e7a-45f0-b1b1-6d8ad1c22f49"
      },
      "source": [
        "Accuracy = [x*100 for x in scores_list]\n",
        "# plot Accuracy versus k\n",
        "plt.figure(figsize = (10, 6))\n",
        "plt.plot(neighbors, Accuracy)\n",
        "plt.xlim([0, 25])\n",
        "plt.xlabel('Number of neighbors')\n",
        "plt.ylabel('Accuracy in %')\n",
        "plt.show()"
      ],
      "execution_count": 9,
      "outputs": [
        {
          "output_type": "display_data",
          "data": {
            "text/plain": [
              "<Figure size 720x432 with 1 Axes>"
            ],
            "image/png": "[encoded data removed]"
          },
          "metadata": {
            "needs_background": "light"
          }
        }
      ]
    },
    {
      "cell_type": "code",
      "source": [
        "# determining the best k\n",
        "max_acc = max(Accuracy)\n",
        "optimal_ks = [neighbors[i] for i, j in enumerate(Accuracy) if j == max_acc]\n",
        "print(max_acc)\n",
        "print(optimal_ks)"
      ],
      "metadata": {
        "colab": {
          "base_uri": "https://localhost:8080/"
        },
        "id": "L_PArXY3phVM",
        "outputId": "0d8498b2-bef2-46e1-f669-df312849c5e8"
      },
      "execution_count": 10,
      "outputs": [
        {
          "output_type": "stream",
          "name": "stdout",
          "text": [
            "93.61702127659575\n",
            "[10, 12, 13, 14, 22, 24]\n"
          ]
        }
      ]
    },
    {
      "cell_type": "markdown",
      "source": [
        "In this case, we see that the ideal number of neighbours can take any one of the values in the list [10,12,13,14,22,24].  \n",
        "However, this only tells us the effectiveness of the KNN classifier only if we have the same train-test split considered above. It still does not tell us how well the algorithm would perform if the test set were different. The results would have been different if we had split the data differently."
      ],
      "metadata": {
        "id": "AYObfxqdsGqF"
      }
    },
    {
      "cell_type": "code",
      "source": [
        "# determining the best k\n",
        "min_acc = min(Accuracy)\n",
        "optimal_ks = [neighbors[i] for i, j in enumerate(Accuracy) if j == min_acc]\n",
        "print(min_acc)\n",
        "print(optimal_ks)"
      ],
      "metadata": {
        "id": "4jyQV8zRKDmO",
        "outputId": "1b559e77-7839-45ab-967f-ec3f1fe89b7f",
        "colab": {
          "base_uri": "https://localhost:8080/"
        }
      },
      "execution_count": 11,
      "outputs": [
        {
          "output_type": "stream",
          "name": "stdout",
          "text": [
            "89.36170212765957\n",
            "[2]\n"
          ]
        }
      ]
    },
    {
      "cell_type": "markdown",
      "source": [
        "### AUC-ROC Curve"
      ],
      "metadata": {
        "id": "uD1tc30Bvnec"
      }
    },
    {
      "cell_type": "markdown",
      "source": [
        "The AUC - ROC curve is a performance measurement for classification problems at various threshold settings. ROC is a probability curve and AUC represents the degree or measure of separability.\n",
        "It tells how much the model is capable of distinguishing between classes.  \n",
        "The diagonal in the curve divides the ROC space. Points above the diagonal represent good classification results (better than random); points below the line represent bad results (worse than random).    \n",
        "Higher the AUC, the better the model is at predicting 0 classes as 0 and 1 classes as 1.\n",
        "\n",
        "The ROC curve is plotted with the TPR (True Positive Rate) on the y-axis, and the FPR (False Positive Rate) on the x-axis."
      ],
      "metadata": {
        "id": "3US9wcfViqNk"
      }
    },
    {
      "cell_type": "code",
      "source": [
        "## AUC-ROC\n",
        "from sklearn.metrics import roc_curve\n",
        "from sklearn.metrics import auc\n",
        "import matplotlib.pyplot as plt\n",
        "\n",
        "def plot_roc(y_test,predicted):\n",
        "  y_scores = predicted\n",
        "  fpr, tpr, threshold = roc_curve(y_test, y_scores)\n",
        "  roc_auc = auc(fpr, tpr)\n",
        "  plt.plot(fpr, tpr, 'b', label = 'AUC = %0.2f' % roc_auc)\n",
        "  plt.legend(loc = 'lower right')\n",
        "  plt.plot([0, 1], [0, 1],'r--')\n",
        "  plt.xlim([0, 1])\n",
        "  plt.ylim([0, 1])\n",
        "  plt.ylabel('True Positive Rate')\n",
        "  plt.xlabel('False Positive Rate')\n",
        "  plt.title('Receiver Operating Characteristic')\n",
        "  plt.show()"
      ],
      "metadata": {
        "id": "SAp-lfCCiced"
      },
      "execution_count": 12,
      "outputs": []
    },
    {
      "cell_type": "code",
      "source": [
        "knn = KNeighborsClassifier(n_neighbors = 10)\n",
        "knn.fit(X_train,y_train)\n",
        "predictions = knn.predict(X_test)\n",
        "plot_roc(y_test,predictions)"
      ],
      "metadata": {
        "colab": {
          "base_uri": "https://localhost:8080/",
          "height": 295
        },
        "id": "jcNAfOc6ihrv",
        "outputId": "bdc8d19e-5e48-4466-8c6b-f07cc8da0a23"
      },
      "execution_count": 13,
      "outputs": [
        {
          "output_type": "display_data",
          "data": {
            "text/plain": [
              "<Figure size 432x288 with 1 Axes>"
            ],
            "image/png": "[encoded data removed]"
          },
          "metadata": {
            "needs_background": "light"
          }
        }
      ]
    },
    {
      "cell_type": "markdown",
      "source": [
        "## Section 1.2: KNN using a different train-test split"
      ],
      "metadata": {
        "id": "CO7rXVXkiwsL"
      }
    },
    {
      "cell_type": "code",
      "source": [
        "## Changing the random_state value here so that data is split differently\n",
        "X_train, X_test, y_train, y_test = train_test_split(X, y, test_size = 0.33, random_state = 1089)"
      ],
      "metadata": {
        "id": "v-i6n6y3swm4"
      },
      "execution_count": 14,
      "outputs": []
    },
    {
      "cell_type": "code",
      "source": [
        "neighbors = []\n",
        "scores_list = []\n",
        "  \n",
        "for k in range(1, 25):\n",
        "    neighbors.append(k)\n",
        "    knn = KNeighborsClassifier(n_neighbors = k)\n",
        "    knn.fit(X_train,y_train)\n",
        "    scores = knn.score(X_test,y_test)\n",
        "    scores_list.append(scores)"
      ],
      "metadata": {
        "id": "yUQsEfAjsFaS"
      },
      "execution_count": 15,
      "outputs": []
    },
    {
      "cell_type": "code",
      "source": [
        "Accuracy = [x*100 for x in scores_list]\n",
        "# plot Accuracy versus k\n",
        "plt.figure(figsize = (10, 6))\n",
        "plt.plot(neighbors, Accuracy)\n",
        "plt.xlim([0, 25])\n",
        "plt.xlabel('Number of neighbors')\n",
        "plt.ylabel('Accuracy in %')\n",
        "plt.show()"
      ],
      "metadata": {
        "colab": {
          "base_uri": "https://localhost:8080/",
          "height": 388
        },
        "id": "wy9EH2Yms5e_",
        "outputId": "c8d25ac8-0a5d-46ef-c56f-7cfd087aaf92"
      },
      "execution_count": 16,
      "outputs": [
        {
          "output_type": "display_data",
          "data": {
            "text/plain": [
              "<Figure size 720x432 with 1 Axes>"
            ],
            "image/png": "[encoded data removed]"
          },
          "metadata": {
            "needs_background": "light"
          }
        }
      ]
    },
    {
      "cell_type": "code",
      "source": [
        "# determining the best k\n",
        "max_acc = max(Accuracy)\n",
        "optimal_ks = [neighbors[i] for i, j in enumerate(Accuracy) if j == max_acc]\n",
        "print(max_acc)\n",
        "print(optimal_ks)"
      ],
      "metadata": {
        "colab": {
          "base_uri": "https://localhost:8080/"
        },
        "id": "sEEUOUOfs7_E",
        "outputId": "214569d4-3787-4d0b-e0eb-b2760f8b6b7d"
      },
      "execution_count": 17,
      "outputs": [
        {
          "output_type": "stream",
          "name": "stdout",
          "text": [
            "94.14893617021278\n",
            "[5, 7, 8]\n"
          ]
        }
      ]
    },
    {
      "cell_type": "markdown",
      "source": [
        "As you can see, the model gives different results when we split the data differently. Here, it suggests that the ideal k value is 5, 7 or 8."
      ],
      "metadata": {
        "id": "l-yZCIU8tdo2"
      }
    },
    {
      "cell_type": "code",
      "source": [
        "min_acc = min(Accuracy)\n",
        "optimal_ks = [neighbors[i] for i, j in enumerate(Accuracy) if j == min_acc]\n",
        "print(min_acc)\n",
        "print(optimal_ks)"
      ],
      "metadata": {
        "id": "Fb-e8ZnwKP9q",
        "outputId": "a5d87c0f-ac4d-4448-f172-4fedec68b3b8",
        "colab": {
          "base_uri": "https://localhost:8080/"
        }
      },
      "execution_count": 18,
      "outputs": [
        {
          "output_type": "stream",
          "name": "stdout",
          "text": [
            "89.8936170212766\n",
            "[1, 2]\n"
          ]
        }
      ]
    },
    {
      "cell_type": "markdown",
      "source": [
        "# **Section 2: Cross Validation**"
      ],
      "metadata": {
        "id": "0GOXxe-Wv_0w"
      }
    },
    {
      "cell_type": "markdown",
      "metadata": {
        "id": "Pfnhgihivrn3"
      },
      "source": [
        "As you saw in the above two cases with different train-test splits, there is a risk of overfitting on the test set because the parameters can be tweaked until the estimator performs optimally. This way, knowledge about the test set can “leak” into the model and evaluation metrics no longer report on generalization performance.  \n",
        "\n",
        "Cross Validation is an important technique in Machine Learning to analyze the performance of a model on **unseen** data.  \n",
        "\n",
        "There are different kinds of cross-validation methods: exhaustive and non-exhaustive.   \n",
        "Exhaustive cross-validation methods are cross-validation methods which learn and test on all possible ways to divide the original sample into a training and a validation set.\n",
        "Non-exhaustive cross validation methods do not compute all ways of splitting the original sample.\n",
        "\n",
        "One of the most commonly cross-validation methods is **K-Fold Cross validation**. The procedure for K-Fold Cross Validation is as follows:  \n",
        "1. Split the dataset into k groups (typically without shuffling)\n",
        "2. For each unique group:  \n",
        "  a. Take the group as a hold out or test data set  \n",
        "  b. Take the remaining groups as a training data set  \n",
        "  c. Fit a model on the training set and evaluate it on the test set  \n",
        "  d. Retain the evaluation score and discard the model  \n",
        "3. Summarize the performance of the model using the mean of model evaluation scores over all the folds."
      ]
    },
    {
      "cell_type": "markdown",
      "source": [
        "Image source: https://scikit-learn.org/stable/modules/cross_validation.html  \n",
        "![Screenshot from 2021-12-13 09-37-46.png](data:image/png;base64,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)"
      ],
      "metadata": {
        "id": "aKUDUmiS-g06"
      }
    },
    {
      "cell_type": "code",
      "source": [
        "X_train, X_test, y_train, y_test = train_test_split(X, y, test_size = 0.33, random_state = 17)"
      ],
      "metadata": {
        "id": "9xjLYb1ZvaqM"
      },
      "execution_count": 19,
      "outputs": []
    },
    {
      "cell_type": "code",
      "source": [
        "from sklearn.model_selection import KFold\n",
        "from statistics import mean\n",
        "kf = KFold(n_splits=10)\n",
        "cv_scores = []\n",
        "neighbors = []\n",
        "for k in range(1,25):\n",
        "  knn = KNeighborsClassifier(n_neighbors = k)\n",
        "  neighbors.append(k)\n",
        "  acclist = []\n",
        "  for train_index, test_index in kf.split(X_train, y_train):\n",
        "    x_train_fold, x_test_fold = X_train.iloc[train_index], X_train.iloc[test_index]\n",
        "    y_train_fold, y_test_fold = y_train.iloc[train_index], y_train.iloc[test_index]\n",
        "    knn.fit(x_train_fold, y_train_fold)\n",
        "    acclist.append(knn.score(x_test_fold, y_test_fold))\n",
        "  cv_scores.append(mean(acclist))"
      ],
      "metadata": {
        "id": "RB0Te1S8uiT6"
      },
      "execution_count": 20,
      "outputs": []
    },
    {
      "cell_type": "code",
      "metadata": {
        "colab": {
          "base_uri": "https://localhost:8080/",
          "height": 388
        },
        "id": "UjpQTP7QpokH",
        "outputId": "eeacb26a-8b05-41f6-b5b8-dae369f97b6e"
      },
      "source": [
        "Accuracy = [x*100 for x in cv_scores]\n",
        "  \n",
        "# plot misclassification error versus k\n",
        "plt.figure(figsize = (10, 6))\n",
        "plt.plot(neighbors, Accuracy)\n",
        "plt.xlabel('Number of neighbors')\n",
        "plt.ylabel('Mean Cross-validation accuracy in %')\n",
        "plt.show()"
      ],
      "execution_count": 21,
      "outputs": [
        {
          "output_type": "display_data",
          "data": {
            "text/plain": [
              "<Figure size 720x432 with 1 Axes>"
            ],
            "image/png": "[encoded data removed]"
          },
          "metadata": {
            "needs_background": "light"
          }
        }
      ]
    },
    {
      "cell_type": "code",
      "source": [
        "# determining the best k\n",
        "max_acc = max(Accuracy)\n",
        "optimal_ks = [neighbors[i] for i, j in enumerate(Accuracy) if j == max_acc]\n",
        "print(optimal_ks)"
      ],
      "metadata": {
        "colab": {
          "base_uri": "https://localhost:8080/"
        },
        "id": "U-XBDufnxbuT",
        "outputId": "a9e64cb5-6c70-4539-c628-04d9092ccc46"
      },
      "execution_count": 22,
      "outputs": [
        {
          "output_type": "stream",
          "name": "stdout",
          "text": [
            "[10, 12]\n"
          ]
        }
      ]
    },
    {
      "cell_type": "code",
      "source": [
        "print(max_acc)"
      ],
      "metadata": {
        "id": "WqVB3pQWKlfC",
        "outputId": "444c2be3-69e7-4d9a-8c8b-960d8b73bd58",
        "colab": {
          "base_uri": "https://localhost:8080/"
        }
      },
      "execution_count": 23,
      "outputs": [
        {
          "output_type": "stream",
          "name": "stdout",
          "text": [
            "93.69095816464238\n"
          ]
        }
      ]
    },
    {
      "cell_type": "code",
      "source": [
        "min_acc = min(Accuracy)\n",
        "optimal_ks = [neighbors[i] for i, j in enumerate(Accuracy) if j == min_acc]\n",
        "print(min_acc)\n",
        "print(optimal_ks)"
      ],
      "metadata": {
        "id": "W-M9zTk4KpnA",
        "outputId": "46841a1d-1745-4602-de1a-19999fc5fc36",
        "colab": {
          "base_uri": "https://localhost:8080/"
        }
      },
      "execution_count": 24,
      "outputs": [
        {
          "output_type": "stream",
          "name": "stdout",
          "text": [
            "90.81646423751687\n",
            "[2]\n"
          ]
        }
      ]
    },
    {
      "cell_type": "markdown",
      "source": [
        "Note that the accuracy in the above case is not the accuracy on the test set. We plot the mean of the accuracies obtained during cross-validation, when we considered different splits of the training set.  \n",
        "\n",
        "From the plot above, we can see that when the value of k is 10 or 12, our KNN model generalizes well to unseen data. Performing such cross validation gives us an idea about the parameters to choose when using a machine-learning algorithm."
      ],
      "metadata": {
        "id": "AHbBLzXWxzsh"
      }
    },
    {
      "cell_type": "code",
      "source": [
        "## TASK-1:\n",
        "## In the above case, we saw K-Fold cross validation, where we split the dataset into K consecutive folds without taking anything else into account.\n",
        "## Stratified KFold is another strategy that is commonly used, which preserves the percentage of samples for each class in the folds.\n",
        "## Implement Stratified KFold (refer Sklearn docs) and display the results you obtain"
      ],
      "metadata": {
        "id": "ulg8ESJ77bIz"
      },
      "execution_count": 25,
      "outputs": []
    },
    {
      "cell_type": "code",
      "source": [
        "from sklearn.model_selection import StratifiedKFold"
      ],
      "metadata": {
        "id": "44kbvdcoLL_9"
      },
      "execution_count": 26,
      "outputs": []
    },
    {
      "cell_type": "code",
      "source": [
        "from statistics import mean\n",
        "skf = StratifiedKFold(n_splits=10)\n",
        "cv_scores = []\n",
        "neighbors = []\n",
        "for k in range(1,25):\n",
        "  knn = KNeighborsClassifier(n_neighbors = k)\n",
        "  neighbors.append(k)\n",
        "  acclist = []\n",
        "  for train_index, test_index in skf.split(X_train, y_train):\n",
        "    x_train_fold, x_test_fold = X_train.iloc[train_index], X_train.iloc[test_index]\n",
        "    y_train_fold, y_test_fold = y_train.iloc[train_index], y_train.iloc[test_index]\n",
        "    knn.fit(x_train_fold, y_train_fold)\n",
        "    acclist.append(knn.score(x_test_fold, y_test_fold))\n",
        "  cv_scores.append(mean(acclist))"
      ],
      "metadata": {
        "id": "SueOXn-QLiRb"
      },
      "execution_count": 27,
      "outputs": []
    },
    {
      "cell_type": "code",
      "source": [
        "Accuracy = [x*100 for x in cv_scores]\n",
        "  \n",
        "# plot misclassification error versus k\n",
        "plt.figure(figsize = (10, 6))\n",
        "plt.plot(neighbors, Accuracy)\n",
        "plt.xlabel('Number of neighbors')\n",
        "plt.ylabel('Mean Cross-validation accuracy in %')\n",
        "plt.show()"
      ],
      "metadata": {
        "colab": {
          "base_uri": "https://localhost:8080/",
          "height": 388
        },
        "id": "05Ylf0qsL14N",
        "outputId": "ad71b36b-8794-4ca0-8106-e0df8c850f66"
      },
      "execution_count": 28,
      "outputs": [
        {
          "output_type": "display_data",
          "data": {
            "text/plain": [
              "<Figure size 720x432 with 1 Axes>"
            ],
            "image/png": "[encoded data removed]"
          },
          "metadata": {
            "needs_background": "light"
          }
        }
      ]
    },
    {
      "cell_type": "code",
      "source": [
        "max_acc = max(Accuracy)\n",
        "optimal_ks = [neighbors[i] for i, j in enumerate(Accuracy) if j == max_acc]\n",
        "print(optimal_ks)\n"
      ],
      "metadata": {
        "colab": {
          "base_uri": "https://localhost:8080/"
        },
        "id": "KFSVp_y0L9Cl",
        "outputId": "be99b0aa-75ec-40df-9329-e6dc2c33c744"
      },
      "execution_count": 29,
      "outputs": [
        {
          "output_type": "stream",
          "name": "stdout",
          "text": [
            "[5, 6]\n"
          ]
        }
      ]
    },
    {
      "cell_type": "code",
      "source": [
        "max_acc"
      ],
      "metadata": {
        "colab": {
          "base_uri": "https://localhost:8080/"
        },
        "id": "cuVYjOFNMFik",
        "outputId": "4f5c10e3-5565-43c1-e4f5-6f1c7dc2409a"
      },
      "execution_count": 30,
      "outputs": [
        {
          "output_type": "execute_result",
          "data": {
            "text/plain": [
              "93.6842105263158"
            ]
          },
          "metadata": {},
          "execution_count": 30
        }
      ]
    },
    {
      "cell_type": "code",
      "source": [
        "min_acc = min(Accuracy)\n",
        "min_acc"
      ],
      "metadata": {
        "colab": {
          "base_uri": "https://localhost:8080/"
        },
        "id": "aVzIU4xOMNta",
        "outputId": "1da8591b-ceef-4689-e53c-71c9876d31a5"
      },
      "execution_count": 31,
      "outputs": [
        {
          "output_type": "execute_result",
          "data": {
            "text/plain": [
              "91.07962213225372"
            ]
          },
          "metadata": {},
          "execution_count": 31
        }
      ]
    },
    {
      "cell_type": "markdown",
      "source": [
        "# **Section 3: Standardization**\n"
      ],
      "metadata": {
        "id": "yyJCZFTxwIlp"
      }
    },
    {
      "cell_type": "markdown",
      "source": [
        "Scaling the data that we have available is a recommended pre-processing step when working with many machine learning algorithms. The scale and distribution of the data drawn from the domain may be different for each variable. Differences in the scales across input variables may increase the difficulty of the problem being modeled, and the model may suffer from poor performance during learning and sensitivity to input values resulting in higher generalization error.  \n",
        "\n",
        "Standardization (also called z-score normalization) is one such scaling technique that transforms your data such that the resulting distribution has a mean of 0 and a standard deviation of 1. \n",
        "\n",
        "$$ \\text{New (scaled) value} = {X - \\mu \\over \\sigma}$$ \n"
      ],
      "metadata": {
        "id": "LiST-3D1zVgA"
      }
    },
    {
      "cell_type": "code",
      "source": [
        "X = cancer.data\n",
        "y = cancer.target"
      ],
      "metadata": {
        "id": "GNe4-JTI0tYh"
      },
      "execution_count": 32,
      "outputs": []
    },
    {
      "cell_type": "code",
      "source": [
        "from sklearn.model_selection import train_test_split\n",
        "from sklearn.preprocessing import StandardScaler\n",
        "scaler = StandardScaler()\n",
        "X_scaled = scaler.fit_transform(X)"
      ],
      "metadata": {
        "id": "dwS4wRtFzUK_"
      },
      "execution_count": 33,
      "outputs": []
    },
    {
      "cell_type": "code",
      "source": [
        "X_train, X_test, y_train, y_test = train_test_split(X_scaled, y, test_size = 0.33, random_state = 17)"
      ],
      "metadata": {
        "id": "rVg1mxfc0HgB"
      },
      "execution_count": 34,
      "outputs": []
    },
    {
      "cell_type": "code",
      "source": [
        "neighbors = []\n",
        "scores_list = []\n",
        "  \n",
        "for k in range(1, 25):\n",
        "    neighbors.append(k)\n",
        "    knn = KNeighborsClassifier(n_neighbors = k)\n",
        "    knn.fit(X_train,y_train)\n",
        "    predictions = knn.predict(X_test)\n",
        "    scores = knn.score(X_test,y_test)\n",
        "    scores_list.append(scores)"
      ],
      "metadata": {
        "id": "yq6yq6FjzmcR"
      },
      "execution_count": 35,
      "outputs": []
    },
    {
      "cell_type": "code",
      "source": [
        "predictions"
      ],
      "metadata": {
        "colab": {
          "base_uri": "https://localhost:8080/"
        },
        "id": "csj1FUFDUCm8",
        "outputId": "35ea342a-6b19-4916-819f-4487ee0c1bd6"
      },
      "execution_count": 36,
      "outputs": [
        {
          "output_type": "execute_result",
          "data": {
            "text/plain": [
              "array([1, 1, 1, 1, 1, 1, 1, 0, 1, 0, 1, 1, 1, 1, 0, 1, 1, 0, 1, 1, 1, 1,\n",
              "       0, 1, 1, 1, 1, 1, 1, 0, 1, 0, 1, 0, 1, 0, 1, 1, 0, 1, 1, 1, 1, 0,\n",
              "       1, 1, 1, 1, 1, 1, 1, 0, 1, 1, 0, 1, 0, 1, 1, 0, 0, 0, 0, 1, 1, 0,\n",
              "       0, 1, 1, 1, 0, 1, 0, 0, 1, 1, 1, 0, 0, 1, 1, 0, 1, 1, 1, 0, 0, 1,\n",
              "       0, 1, 0, 0, 1, 1, 1, 1, 0, 0, 0, 0, 1, 1, 0, 1, 0, 1, 1, 1, 1, 0,\n",
              "       1, 1, 1, 1, 1, 1, 1, 0, 0, 1, 1, 1, 1, 0, 1, 1, 1, 1, 1, 0, 0, 1,\n",
              "       0, 1, 1, 1, 1, 1, 1, 1, 0, 0, 0, 1, 1, 0, 1, 1, 0, 0, 1, 1, 0, 0,\n",
              "       1, 1, 0, 1, 1, 1, 1, 1, 0, 1, 0, 0, 0, 1, 1, 1, 0, 1, 1, 1, 0, 0,\n",
              "       1, 0, 0, 1, 1, 1, 1, 1, 1, 1, 1, 0])"
            ]
          },
          "metadata": {},
          "execution_count": 36
        }
      ]
    },
    {
      "cell_type": "code",
      "source": [
        "Accuracy = [x*100 for x in scores_list]\n",
        "# plot Accuracy versus k\n",
        "plt.figure(figsize = (10, 6))\n",
        "plt.plot(neighbors, Accuracy)\n",
        "plt.xlim([0, 25])\n",
        "plt.xlabel('Number of neighbors')\n",
        "plt.ylabel('Accuracy in %')\n",
        "plt.show()"
      ],
      "metadata": {
        "colab": {
          "base_uri": "https://localhost:8080/",
          "height": 388
        },
        "id": "ID5KNvw5zyOb",
        "outputId": "59ee221b-f63f-40a8-d988-2abababea5d1"
      },
      "execution_count": 37,
      "outputs": [
        {
          "output_type": "display_data",
          "data": {
            "text/plain": [
              "<Figure size 720x432 with 1 Axes>"
            ],
            "image/png": "[encoded data removed]"
          },
          "metadata": {
            "needs_background": "light"
          }
        }
      ]
    },
    {
      "cell_type": "code",
      "source": [
        "# determining the best k\n",
        "max_acc = max(Accuracy)\n",
        "optimal_ks = [neighbors[i] for i, j in enumerate(Accuracy) if j == max_acc]\n",
        "print(max_acc)\n",
        "print(optimal_ks)"
      ],
      "metadata": {
        "colab": {
          "base_uri": "https://localhost:8080/"
        },
        "id": "8tm1WNW1z0I7",
        "outputId": "d55f37ca-e413-460f-d4e1-d8556febf115"
      },
      "execution_count": 38,
      "outputs": [
        {
          "output_type": "stream",
          "name": "stdout",
          "text": [
            "96.80851063829788\n",
            "[2]\n"
          ]
        }
      ]
    },
    {
      "cell_type": "code",
      "source": [
        "## TASK-2:\n",
        "## Plot a confusion matrix for the classification above on the scaled data (using the optimal value of k)\n",
        "## Also print out the Precision, Recall and F1-score values"
      ],
      "metadata": {
        "id": "8m5kl4pU6oV7"
      },
      "execution_count": 39,
      "outputs": []
    },
    {
      "cell_type": "code",
      "source": [
        "from sklearn.metrics import confusion_matrix\n",
        "cm=confusion_matrix(y_test,predictions)"
      ],
      "metadata": {
        "id": "xPUfR7zzQAJL"
      },
      "execution_count": 40,
      "outputs": []
    },
    {
      "cell_type": "code",
      "source": [
        "p=pd.DataFrame(cm)\n",
        "p"
      ],
      "metadata": {
        "colab": {
          "base_uri": "https://localhost:8080/",
          "height": 112
        },
        "id": "iCGJshwSUfNh",
        "outputId": "dc8f095c-c503-43de-d3c3-62a956593b84"
      },
      "execution_count": 41,
      "outputs": [
        {
          "output_type": "execute_result",
          "data": {
            "text/plain": [
              "    0    1\n",
              "0  61    6\n",
              "1   2  119"
            ],
            "text/html": [
              "\n",
              "  <div id=\"df-2751bc78-d9db-4726-b380-331dacf7632b\">\n",
              "    <div class=\"colab-df-container\">\n",
              "      <div>\n",
              "<style scoped>\n",
              "    .dataframe tbody tr th:only-of-type {\n",
              "        vertical-align: middle;\n",
              "    }\n",
              "\n",
              "    .dataframe tbody tr th {\n",
              "        vertical-align: top;\n",
              "    }\n",
              "\n",
              "    .dataframe thead th {\n",
              "        text-align: right;\n",
              "    }\n",
              "</style>\n",
              "<table border=\"1\" class=\"dataframe\">\n",
              "  <thead>\n",
              "    <tr style=\"text-align: right;\">\n",
              "      <th></th>\n",
              "      <th>0</th>\n",
              "      <th>1</th>\n",
              "    </tr>\n",
              "  </thead>\n",
              "  <tbody>\n",
              "    <tr>\n",
              "      <th>0</th>\n",
              "      <td>61</td>\n",
              "      <td>6</td>\n",
              "    </tr>\n",
              "    <tr>\n",
              "      <th>1</th>\n",
              "      <td>2</td>\n",
              "      <td>119</td>\n",
              "    </tr>\n",
              "  </tbody>\n",
              "</table>\n",
              "</div>\n",
              "      <button class=\"colab-df-convert\" onclick=\"convertToInteractive('df-2751bc78-d9db-4726-b380-331dacf7632b')\"\n",
              "              title=\"Convert this dataframe to an interactive table.\"\n",
              "              style=\"display:none;\">\n",
              "        \n",
              "  <svg xmlns=\"http://www.w3.org/2000/svg\" height=\"24px\"viewBox=\"0 0 24 24\"\n",
              "       width=\"24px\">\n",
              "    <path d=\"M0 0h24v24H0V0z\" fill=\"none\"/>\n",
              "    <path d=\"M18.56 5.44l.94 2.06.94-2.06 2.06-.94-2.06-.94-.94-2.06-.94 2.06-2.06.94zm-11 1L8.5 8.5l.94-2.06 2.06-.94-2.06-.94L8.5 2.5l-.94 2.06-2.06.94zm10 10l.94 2.06.94-2.06 2.06-.94-2.06-.94-.94-2.06-.94 2.06-2.06.94z\"/><path d=\"M17.41 7.96l-1.37-1.37c-.4-.4-.92-.59-1.43-.59-.52 0-1.04.2-1.43.59L10.3 9.45l-7.72 7.72c-.78.78-.78 2.05 0 2.83L4 21.41c.39.39.9.59 1.41.59.51 0 1.02-.2 1.41-.59l7.78-7.78 2.81-2.81c.8-.78.8-2.07 0-2.86zM5.41 20L4 18.59l7.72-7.72 1.47 1.35L5.41 20z\"/>\n",
              "  </svg>\n",
              "      </button>\n",
              "      \n",
              "  <style>\n",
              "    .colab-df-container {\n",
              "      display:flex;\n",
              "      flex-wrap:wrap;\n",
              "      gap: 12px;\n",
              "    }\n",
              "\n",
              "    .colab-df-convert {\n",
              "      background-color: #E8F0FE;\n",
              "      border: none;\n",
              "      border-radius: 50%;\n",
              "      cursor: pointer;\n",
              "      display: none;\n",
              "      fill: #1967D2;\n",
              "      height: 32px;\n",
              "      padding: 0 0 0 0;\n",
              "      width: 32px;\n",
              "    }\n",
              "\n",
              "    .colab-df-convert:hover {\n",
              "      background-color: #E2EBFA;\n",
              "      box-shadow: 0px 1px 2px rgba(60, 64, 67, 0.3), 0px 1px 3px 1px rgba(60, 64, 67, 0.15);\n",
              "      fill: #174EA6;\n",
              "    }\n",
              "\n",
              "    [theme=dark] .colab-df-convert {\n",
              "      background-color: #3B4455;\n",
              "      fill: #D2E3FC;\n",
              "    }\n",
              "\n",
              "    [theme=dark] .colab-df-convert:hover {\n",
              "      background-color: #434B5C;\n",
              "      box-shadow: 0px 1px 3px 1px rgba(0, 0, 0, 0.15);\n",
              "      filter: drop-shadow(0px 1px 2px rgba(0, 0, 0, 0.3));\n",
              "      fill: #FFFFFF;\n",
              "    }\n",
              "  </style>\n",
              "\n",
              "      <script>\n",
              "        const buttonEl =\n",
              "          document.querySelector('#df-2751bc78-d9db-4726-b380-331dacf7632b button.colab-df-convert');\n",
              "        buttonEl.style.display =\n",
              "          google.colab.kernel.accessAllowed ? 'block' : 'none';\n",
              "\n",
              "        async function convertToInteractive(key) {\n",
              "          const element = document.querySelector('#df-2751bc78-d9db-4726-b380-331dacf7632b');\n",
              "          const dataTable =\n",
              "            await google.colab.kernel.invokeFunction('convertToInteractive',\n",
              "                                                     [key], {});\n",
              "          if (!dataTable) return;\n",
              "\n",
              "          const docLinkHtml = 'Like what you see? Visit the ' +\n",
              "            '<a target=\"_blank\" href=https://colab.research.google.com/notebooks/data_table.ipynb>data table notebook</a>'\n",
              "            + ' to learn more about interactive tables.';\n",
              "          element.innerHTML = '';\n",
              "          dataTable['output_type'] = 'display_data';\n",
              "          await google.colab.output.renderOutput(dataTable, element);\n",
              "          const docLink = document.createElement('div');\n",
              "          docLink.innerHTML = docLinkHtml;\n",
              "          element.appendChild(docLink);\n",
              "        }\n",
              "      </script>\n",
              "    </div>\n",
              "  </div>\n",
              "  "
            ]
          },
          "metadata": {},
          "execution_count": 41
        }
      ]
    },
    {
      "cell_type": "code",
      "source": [
        "from sklearn.metrics import precision_score,recall_score"
      ],
      "metadata": {
        "id": "EY-Qfk-gU8Mo"
      },
      "execution_count": 42,
      "outputs": []
    },
    {
      "cell_type": "code",
      "source": [
        "p_c=precision_score(y_test,predictions)\n",
        "r_s=recall_score(y_test,predictions)"
      ],
      "metadata": {
        "id": "OXbc5svXVHvH"
      },
      "execution_count": 43,
      "outputs": []
    },
    {
      "cell_type": "code",
      "source": [
        "p_c\n"
      ],
      "metadata": {
        "colab": {
          "base_uri": "https://localhost:8080/"
        },
        "id": "IvIgpyzfVVSp",
        "outputId": "c7cb387f-899f-469e-b79e-530aa5248106"
      },
      "execution_count": 44,
      "outputs": [
        {
          "output_type": "execute_result",
          "data": {
            "text/plain": [
              "0.952"
            ]
          },
          "metadata": {},
          "execution_count": 44
        }
      ]
    },
    {
      "cell_type": "code",
      "source": [
        "r_s"
      ],
      "metadata": {
        "colab": {
          "base_uri": "https://localhost:8080/"
        },
        "id": "0go83R20VauK",
        "outputId": "0f009248-7049-42b0-c176-aec354444524"
      },
      "execution_count": 45,
      "outputs": [
        {
          "output_type": "execute_result",
          "data": {
            "text/plain": [
              "0.9834710743801653"
            ]
          },
          "metadata": {},
          "execution_count": 45
        }
      ]
    },
    {
      "cell_type": "code",
      "source": [
        "from sklearn.metrics import f1_score\n",
        "f_s=f1_score(y_test,predictions)\n",
        "f_s"
      ],
      "metadata": {
        "colab": {
          "base_uri": "https://localhost:8080/"
        },
        "id": "spAujk11VdRl",
        "outputId": "04211622-16bb-49e2-8ad6-f31c116e7bcb"
      },
      "execution_count": 46,
      "outputs": [
        {
          "output_type": "execute_result",
          "data": {
            "text/plain": [
              "0.967479674796748"
            ]
          },
          "metadata": {},
          "execution_count": 46
        }
      ]
    },
    {
      "cell_type": "code",
      "source": [
        "## TASK-3:\n",
        "## Perform K-Fold Cross validation after standardizing the data. Display your results."
      ],
      "metadata": {
        "id": "NIiLVOEPJFLN"
      },
      "execution_count": 47,
      "outputs": []
    },
    {
      "cell_type": "code",
      "source": [
        "kf = KFold(n_splits=10)\n",
        "\n",
        "cv_scores = []\n",
        "neighbors = []\n",
        "for k in range(1,25):\n",
        "  knn = KNeighborsClassifier(n_neighbors = k)\n",
        "  neighbors.append(k)\n",
        "  acclist = []\n",
        "  X_scaled = pd.DataFrame(X_scaled)\n",
        "  for train_index, test_index in kf.split(X_scaled, y):\n",
        "    x_train_fold, x_test_fold = X_scaled.iloc[train_index], X_scaled.iloc[test_index]\n",
        "    y_train_fold, y_test_fold = y.iloc[train_index], y.iloc[test_index]\n",
        "    knn.fit(x_train_fold, y_train_fold)\n",
        "    acclist.append(knn.score(x_test_fold, y_test_fold))\n",
        "  cv_scores.append(mean(acclist))\n",
        "\n",
        "Accuracy = [x*100 for x in cv_scores]\n",
        "  \n",
        "# plot misclassification error versus k\n",
        "plt.figure(figsize = (10, 6))\n",
        "plt.plot(neighbors, Accuracy)\n",
        "plt.xlabel('Number of neighbors')\n",
        "plt.ylabel('Mean Cross-validation accuracy in %')\n",
        "plt.show()\n",
        "\n",
        "# determining the best k\n",
        "max_acc = max(Accuracy)\n",
        "optimal_ks = [neighbors[i] for i, j in enumerate(Accuracy) if j == max_acc]\n",
        "print(optimal_ks)\n",
        "print('Max_Accuracy', max_acc)\n",
        "     "
      ],
      "metadata": {
        "colab": {
          "base_uri": "https://localhost:8080/",
          "height": 423
        },
        "id": "yJeUqd8E5z_i",
        "outputId": "c2aa0da9-19c3-4ab9-8e09-1ccee47db289"
      },
      "execution_count": 48,
      "outputs": [
        {
          "output_type": "display_data",
          "data": {
            "text/plain": [
              "<Figure size 720x432 with 1 Axes>"
            ],
            "image/png": "[encoded data removed]"
          },
          "metadata": {
            "needs_background": "light"
          }
        },
        {
          "output_type": "stream",
          "name": "stdout",
          "text": [
            "[12, 13]\n",
            "Max_Accuracy 96.83897243107768\n"
          ]
        }
      ]
    },
    {
      "cell_type": "markdown",
      "source": [
        "### Questions to Think About and Answer\n",
        "1. Instead of using cross-validation, we could also split our dataset into three sets- train, validation, and test set. The training proceeds on the training set, after which evaluation is done on the validation set, and when the experiment seems to be successful, final evaluation can be done on the test set.  \n",
        "What do you think are the pros/cons of this method ?  \n",
        "2. Is K-Fold cross validation an exhaustive or non-exhaustive cross validation method ? Justify your answer."
      ],
      "metadata": {
        "id": "W0HPRG2m_XAN"
      }
    },
    {
      "cell_type": "markdown",
      "source": [
        "# QUestion 1"
      ],
      "metadata": {
        "id": "OjPDOhUTb-TW"
      }
    },
    {
      "cell_type": "markdown",
      "source": [
        "Advantages:\n",
        "\n",
        "1.More accurate estimate of out-of-sample accuracy.\n",
        "\n",
        "2.More “efficient” use of data as every observation is used for both training and testing.\n",
        "\n",
        "3.In Cross Validation, we split the dataset into multiple folds and train the algorithm on different folds. This prevents our model from overfitting the training dataset. So, in this way, the model attains the generalization capabilities which is a good sign of a robust algorithm.\n",
        "\n",
        "4.Cross Validation helps in finding the optimal value of hyperparameters to increase the efficiency of the algorithm.\n",
        "\n",
        "Disadvantages:\n",
        "\n",
        "1 Increases Training Time: Cross Validation drastically increases the training time. Earlier you had to train your model only on one training set, but with Cross Validation you have to train your model on multiple training sets. \n",
        "\n",
        "For example, if you go with 5 Fold Cross Validation, you need to do 5 rounds of training each on different 4/5 of available data. And this is for only one choice of hyperparameters. If you have multiple choice of parameters, then the training period will shoot too high.\n",
        "\n",
        "2.Needs Expensive Computation: Cross Validation is computationally very expensive in terms of processing power required."
      ],
      "metadata": {
        "id": "1KrEhKgbcCBb"
      }
    },
    {
      "cell_type": "markdown",
      "source": [
        "# Question 2:"
      ],
      "metadata": {
        "id": "tUaRJ2FqdDqC"
      }
    },
    {
      "cell_type": "markdown",
      "source": [
        "k_folf cross validation method is an exhuastive cross validation method because Data splitting process can be done more effectively with k-fold cross-validation in all possible ways by dividing the dataset into k-validation sets and tarining set."
      ],
      "metadata": {
        "id": "or3WLRgrdHN6"
      }
    },
    {
      "cell_type": "markdown",
      "source": [
        "### Useful Resources for further reading\n",
        "1. Cross validation (scikit-learn): https://scikit-learn.org/stable/modules/cross_validation.html  \n",
        "2. Wikipedia: https://en.wikipedia.org/wiki/Cross-validation_(statistics)  \n",
        "3. Standardization: https://machinelearningmastery.com/standardscaler-and-minmaxscaler-transforms-in-python/  \n",
        "4. AUC-ROC : https://en.wikipedia.org/wiki/Receiver_operating_characteristic\n"
      ],
      "metadata": {
        "id": "p2VvIoDbB15O"
      }
    }
  ]
}